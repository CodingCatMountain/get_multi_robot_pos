{
 "cells": [
  {
   "cell_type": "code",
   "execution_count": 1,
   "id": "c2c29f22",
   "metadata": {},
   "outputs": [],
   "source": [
    "# import library\n",
    "import pandas as pd\n",
    "import numpy as np"
   ]
  },
  {
   "cell_type": "code",
   "execution_count": 11,
   "id": "99e5a597",
   "metadata": {},
   "outputs": [
    {
     "data": {
      "text/plain": [
       "'[0.0, 0.0, 0.33999999999999997]'"
      ]
     },
     "execution_count": 11,
     "metadata": {},
     "output_type": "execute_result"
    }
   ],
   "source": [
    "df = pd.read_csv('../iiwa_sample.csv')\n",
    "df.head()\n",
    "df['link_pos_2'][3]"
   ]
  },
  {
   "cell_type": "code",
   "execution_count": 12,
   "id": "c04a7cb3",
   "metadata": {},
   "outputs": [
    {
     "data": {
      "text/plain": [
       "'[-0.022166866968765665, -0.04300599982799173, 0.2846402833428633]'"
      ]
     },
     "execution_count": 12,
     "metadata": {},
     "output_type": "execute_result"
    }
   ],
   "source": [
    "df_noise = pd.read_csv('../iiwa_samples_with_noise.csv')\n",
    "df_noise.head()\n",
    "df_noise['link_pos_2'][3]"
   ]
  },
  {
   "cell_type": "code",
   "execution_count": null,
   "id": "cfe73eea",
   "metadata": {},
   "outputs": [],
   "source": []
  }
 ],
 "metadata": {
  "kernelspec": {
   "display_name": "Python 3",
   "language": "python",
   "name": "python3"
  },
  "language_info": {
   "codemirror_mode": {
    "name": "ipython",
    "version": 3
   },
   "file_extension": ".py",
   "mimetype": "text/x-python",
   "name": "python",
   "nbconvert_exporter": "python",
   "pygments_lexer": "ipython3",
   "version": "3.6.9"
  }
 },
 "nbformat": 4,
 "nbformat_minor": 5
}
