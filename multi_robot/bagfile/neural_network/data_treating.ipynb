{
 "cells": [
  {
   "cell_type": "code",
   "execution_count": 1,
   "id": "a01b80ad",
   "metadata": {},
   "outputs": [],
   "source": [
    "# import libraries\n",
    "import pandas as pd\n",
    "from sklearn.model_selection import train_test_split\n",
    "from sklearn import ensemble\n",
    "from sklearn.metrics import mean_absolute_error\n",
    "import joblib\n",
    "import numpy as np"
   ]
  },
  {
   "cell_type": "code",
   "execution_count": 24,
   "id": "c8283660",
   "metadata": {},
   "outputs": [],
   "source": [
    "# read the csv data\n",
    "df = pd.read_csv(r'../iiwa_sample.csv')"
   ]
  },
  {
   "cell_type": "code",
   "execution_count": 26,
   "id": "1942aaf9",
   "metadata": {},
   "outputs": [
    {
     "name": "stdout",
     "output_type": "stream",
     "text": [
      "[327, 34, 374, 324, 333, 215, 296, 267, 284, 73, 105, 80, 337, 33, 89, 39, 193, 194, 112, 259, 363, 416, 63, 147, 161, 244, 343, 30, 29, 162, 380, 302, 464, 471, 199, 230, 214, 346, 79, 84, 310, 270, 426, 74, 142, 280, 410, 462, 388, 268, 409, 98, 484, 21, 250, 165, 87, 420, 379, 157, 432, 155, 367, 133, 129, 265, 470, 435, 285, 344, 382, 138, 320, 180, 216, 204, 189, 477, 334, 331, 479, 248, 478, 406, 396, 436, 272, 486, 457, 135, 128, 273, 143, 37, 32, 187, 6, 169, 203, 304, 483, 234, 442, 14, 424, 3, 122, 326, 463, 9, 51, 219, 381, 201, 22, 81, 71, 243, 16, 261, 249, 448, 269, 332, 364, 182, 62, 200, 191, 378, 278, 330, 241, 369, 455, 116, 252, 195, 475, 289, 351, 176, 449, 43, 60, 279, 430, 107, 491, 421, 456, 348, 185, 224, 481, 2, 390, 246, 78, 168, 395, 437, 294, 441, 103, 358, 97, 295, 188, 451, 392, 72, 398, 55, 124, 186, 281, 20, 66, 360, 10, 319, 469, 149, 117, 53, 257, 359, 461, 282, 205, 365, 240, 487, 11, 171, 387, 12, 144, 288, 467, 44, 277, 119, 266, 41, 465, 485, 335, 292, 57, 391, 300, 115, 175, 286, 496, 397, 336, 271, 75, 25, 454, 31, 315, 202, 223, 306, 207, 434, 402, 384, 24, 245, 19, 86, 198, 92, 184, 159, 254, 118, 290, 413, 476, 312, 313, 69, 52, 370, 94, 425, 210, 318, 27, 141, 361, 423, 492, 40, 274, 355, 174, 17, 466, 493, 291, 217, 77, 323, 137, 192, 160, 450, 163, 239, 394, 338, 383, 136, 15, 373, 415, 218, 56, 76, 357, 111, 85, 0, 356, 439, 480, 102, 321, 443, 350, 325, 221, 412, 64, 460, 431, 276, 226, 428, 347, 440, 177, 242, 4, 298, 489, 225, 166, 153, 113, 59, 407, 372, 36, 453, 260, 46, 417, 126, 427, 83, 145, 151, 121, 354, 208, 139, 389, 309, 400, 401, 297, 264, 49, 236, 172, 405, 293, 140, 377, 220, 385, 386, 368, 96, 328, 445, 35, 197, 311, 232, 393, 419, 222, 345, 349, 152, 468, 123, 235, 104, 68, 422, 404, 494, 23, 170, 211, 438, 418, 329, 156, 95, 316, 109, 253, 146, 301, 341, 54, 238, 307, 183, 91, 67, 308, 110, 108, 229, 173, 99, 458, 213, 317, 167, 106, 58, 65, 127, 256, 26, 287, 371, 376, 90, 366, 429, 237, 251, 196, 209, 263, 459, 82, 258, 1, 399, 132, 495, 414, 262, 206, 50, 190, 61, 114, 255, 131, 158, 164, 5, 47, 322, 45, 353, 212, 411, 362, 342, 233, 482, 488, 28, 8, 7, 299, 88, 38, 227, 48, 148, 125, 93, 490, 130, 100, 154, 352, 339, 247, 433, 444, 452, 473, 446, 179, 283, 120, 303, 305, 134, 375, 403, 340, 474, 231, 70, 18, 447, 13, 408, 42, 101, 150, 275, 314, 181, 178, 228, 472]\n"
     ]
    }
   ],
   "source": [
    "# shuffle the data_set\n",
    "index_to_be_shuffled=[]\n",
    "for i in range(497):\n",
    "    index_to_be_shuffled.append(i)\n",
    "np.random.shuffle(index_to_be_shuffled)\n",
    "print(index_to_be_shuffled)"
   ]
  },
  {
   "cell_type": "code",
   "execution_count": null,
   "id": "d525f631",
   "metadata": {},
   "outputs": [],
   "source": [
    "# 后续可以通过混洗index,再按顺序索引混洗后的index来提取train与test数据集"
   ]
  },
  {
   "cell_type": "code",
   "execution_count": 10,
   "id": "751ae354",
   "metadata": {},
   "outputs": [
    {
     "name": "stdout",
     "output_type": "stream",
     "text": [
      "0      [0.0, 0.0, 0.15]\n",
      "1      [0.0, 0.0, 0.15]\n",
      "2      [0.0, 0.0, 0.15]\n",
      "3      [0.0, 0.0, 0.15]\n",
      "4      [0.0, 0.0, 0.15]\n",
      "             ...       \n",
      "492    [0.0, 0.0, 0.15]\n",
      "493    [0.0, 0.0, 0.15]\n",
      "494    [0.0, 0.0, 0.15]\n",
      "495    [0.0, 0.0, 0.15]\n",
      "496    [0.0, 0.0, 0.15]\n",
      "Name: link_pos_1, Length: 497, dtype: object\n"
     ]
    }
   ],
   "source": [
    "# 通过ast库完成position的读取\n",
    "import ast\n",
    "array = ast.literal_eval(df['link_pos_1'])"
   ]
  },
  {
   "cell_type": "code",
   "execution_count": 31,
   "id": "3a424913",
   "metadata": {},
   "outputs": [
    {
     "name": "stdout",
     "output_type": "stream",
     "text": [
      "0\n",
      "[0.0, 0.0, 0.15] [0.0, 0.0, 0.34] [-0.0722843194731492, 0.18899698631261244, 0.39617042213704545] [-0.1376844180449664, 0.3599942596427489, 0.4469912802610012] [-0.2075163105302107, 0.5571294856498958, 0.46599679154168827] [-0.29979061706318755, 0.7202624369837489, 0.5342432752823535] ['link_pos_7']\n",
      "<class 'list'>\n"
     ]
    }
   ],
   "source": [
    "# 通过遍历为每一个position叠加上noise\n",
    "for idx,row in df.iterrows():\n",
    "    print(idx)\n",
    "    print(row['link_pos_1'],row['link_pos_2'],row['link_pos_3'],row['link_pos_4'],row['link_pos_5'],row['link_pos_6'],['link_pos_7'])\n",
    "    print(type(ast.literal_eval(row['link_pos_1'])))\n",
    "    break"
   ]
  },
  {
   "cell_type": "code",
   "execution_count": 35,
   "id": "abddb9bb",
   "metadata": {},
   "outputs": [
    {
     "name": "stdout",
     "output_type": "stream",
     "text": [
      "[0.0, 0.0, 0.15]\n"
     ]
    }
   ],
   "source": [
    "# 通过遍历为每一个position叠加上noise\n",
    "for row in df.itertuples():\n",
    "    print(row.link_pos_1)\n",
    "    break"
   ]
  },
  {
   "cell_type": "code",
   "execution_count": 11,
   "id": "4ad05734",
   "metadata": {},
   "outputs": [
    {
     "data": {
      "text/html": [
       "<div>\n",
       "<style scoped>\n",
       "    .dataframe tbody tr th:only-of-type {\n",
       "        vertical-align: middle;\n",
       "    }\n",
       "\n",
       "    .dataframe tbody tr th {\n",
       "        vertical-align: top;\n",
       "    }\n",
       "\n",
       "    .dataframe thead th {\n",
       "        text-align: right;\n",
       "    }\n",
       "</style>\n",
       "<table border=\"1\" class=\"dataframe\">\n",
       "  <thead>\n",
       "    <tr style=\"text-align: right;\">\n",
       "      <th></th>\n",
       "      <th>A</th>\n",
       "      <th>B</th>\n",
       "      <th>C</th>\n",
       "      <th>D</th>\n",
       "    </tr>\n",
       "  </thead>\n",
       "  <tbody>\n",
       "    <tr>\n",
       "      <th>0</th>\n",
       "      <td>0.415114</td>\n",
       "      <td>0.425708</td>\n",
       "      <td>0.822936</td>\n",
       "      <td>0.505514</td>\n",
       "    </tr>\n",
       "    <tr>\n",
       "      <th>1</th>\n",
       "      <td>0.566681</td>\n",
       "      <td>0.858921</td>\n",
       "      <td>0.326447</td>\n",
       "      <td>0.078987</td>\n",
       "    </tr>\n",
       "    <tr>\n",
       "      <th>2</th>\n",
       "      <td>0.783590</td>\n",
       "      <td>0.744704</td>\n",
       "      <td>0.341641</td>\n",
       "      <td>0.996234</td>\n",
       "    </tr>\n",
       "    <tr>\n",
       "      <th>3</th>\n",
       "      <td>0.878436</td>\n",
       "      <td>0.415255</td>\n",
       "      <td>0.732284</td>\n",
       "      <td>0.543594</td>\n",
       "    </tr>\n",
       "    <tr>\n",
       "      <th>4</th>\n",
       "      <td>0.945504</td>\n",
       "      <td>0.804162</td>\n",
       "      <td>0.979257</td>\n",
       "      <td>0.626220</td>\n",
       "    </tr>\n",
       "  </tbody>\n",
       "</table>\n",
       "</div>"
      ],
      "text/plain": [
       "          A         B         C         D\n",
       "0  0.415114  0.425708  0.822936  0.505514\n",
       "1  0.566681  0.858921  0.326447  0.078987\n",
       "2  0.783590  0.744704  0.341641  0.996234\n",
       "3  0.878436  0.415255  0.732284  0.543594\n",
       "4  0.945504  0.804162  0.979257  0.626220"
      ]
     },
     "execution_count": 11,
     "metadata": {},
     "output_type": "execute_result"
    }
   ],
   "source": [
    "\n",
    "\n",
    "### DataFrame行遍历的学习\n",
    "df=pd.DataFrame(\n",
    "    np.random.random(size=(100000,4)),\n",
    "    columns=list('ABCD'))\n",
    "df.head()"
   ]
  },
  {
   "cell_type": "code",
   "execution_count": 14,
   "id": "386fa97f",
   "metadata": {},
   "outputs": [
    {
     "data": {
      "text/plain": [
       "(100000, 4)"
      ]
     },
     "execution_count": 14,
     "metadata": {},
     "output_type": "execute_result"
    }
   ],
   "source": [
    "df.shape"
   ]
  },
  {
   "cell_type": "code",
   "execution_count": 17,
   "id": "862af7f0",
   "metadata": {},
   "outputs": [
    {
     "name": "stdout",
     "output_type": "stream",
     "text": [
      "0 A    0.415114\n",
      "B    0.425708\n",
      "C    0.822936\n",
      "D    0.505514\n",
      "Name: 0, dtype: float64\n",
      "0 0.41511356106821273 0.42570823568827076 0.8229357904089969 0.5055144013331886\n"
     ]
    }
   ],
   "source": [
    "## 遍历方式1\n",
    "for idx,row in df.iterrows():\n",
    "    print(idx,row)\n",
    "    print(idx,row['A'],row['B'],row['C'],row['D'])\n",
    "    break"
   ]
  },
  {
   "cell_type": "code",
   "execution_count": 19,
   "id": "c1f77516",
   "metadata": {},
   "outputs": [
    {
     "name": "stdout",
     "output_type": "stream",
     "text": [
      "Pandas(Index=0, A=0.41511356106821273, B=0.42570823568827076, C=0.8229357904089969, D=0.5055144013331886)\n",
      "0 0.41511356106821273 0.42570823568827076 0.8229357904089969 0.5055144013331886\n"
     ]
    }
   ],
   "source": [
    "## 遍历方式2\n",
    "for row in df.itertuples():\n",
    "    print(row)\n",
    "    print(row.Index,row.A,row.B,row.C,row.D)\n",
    "    break"
   ]
  },
  {
   "cell_type": "code",
   "execution_count": 22,
   "id": "c24320d5",
   "metadata": {},
   "outputs": [
    {
     "name": "stdout",
     "output_type": "stream",
     "text": [
      "0.41511356106821273 0.42570823568827076\n"
     ]
    }
   ],
   "source": [
    "## 遍历方式3\n",
    "for A,B in zip(df[\"A\"],df[\"B\"]):\n",
    "    print(A,B)\n",
    "    break"
   ]
  },
  {
   "cell_type": "code",
   "execution_count": null,
   "id": "c5bcf605",
   "metadata": {},
   "outputs": [],
   "source": []
  }
 ],
 "metadata": {
  "kernelspec": {
   "display_name": "Python 3",
   "language": "python",
   "name": "python3"
  },
  "language_info": {
   "codemirror_mode": {
    "name": "ipython",
    "version": 3
   },
   "file_extension": ".py",
   "mimetype": "text/x-python",
   "name": "python",
   "nbconvert_exporter": "python",
   "pygments_lexer": "ipython3",
   "version": "3.6.9"
  }
 },
 "nbformat": 4,
 "nbformat_minor": 5
}
